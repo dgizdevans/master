{
  "nbformat": 4,
  "nbformat_minor": 0,
  "metadata": {
    "colab": {
      "provenance": [],
      "authorship_tag": "ABX9TyN1EeUzFINY+65AxgL9cAto",
      "include_colab_link": true
    },
    "kernelspec": {
      "name": "python3",
      "display_name": "Python 3"
    },
    "language_info": {
      "name": "python"
    }
  },
  "cells": [
    {
      "cell_type": "markdown",
      "metadata": {
        "id": "view-in-github",
        "colab_type": "text"
      },
      "source": [
        "<a href=\"https://colab.research.google.com/github/dgizdevans/master/blob/main/ai_project/data_sorter_for_model.ipynb\" target=\"_parent\"><img src=\"https://colab.research.google.com/assets/colab-badge.svg\" alt=\"Open In Colab\"/></a>"
      ]
    },
    {
      "cell_type": "code",
      "execution_count": null,
      "metadata": {
        "id": "mPnDGdB8Rhjt"
      },
      "outputs": [],
      "source": [
        "import os\n",
        "import random\n",
        "from google.colab import auth\n",
        "from google.cloud import storage"
      ]
    },
    {
      "cell_type": "code",
      "source": [
        "# Authenticate and initialize the Google Cloud client\n",
        "auth.authenticate_user()\n",
        "project_id = \"ai-group-project\"  # Replace with your Google Cloud project ID\n",
        "client = storage.Client(project=project_id)\n",
        "bucket_name = \"ai-group-project-data\"  # Replace with your bucket name\n",
        "bucket = client.get_bucket(bucket_name)"
      ],
      "metadata": {
        "id": "09QmMiQBRuwM"
      },
      "execution_count": null,
      "outputs": []
    },
    {
      "cell_type": "code",
      "source": [
        "# Define source and target paths\n",
        "labeled_data_img_path = \"data/labeled_data/images/Train\"  # Path in the bucket where labeled data (images) is stored\n",
        "labeled_data_labels_path = \"data/labeled_data/labels/Train\"  # Path in the bucket where labeled data (labels) is stored\n",
        "source_data_yaml_path = \"data/labeled_data/data.yaml\"\n",
        "target_path = \"datasets/model\"  # Path in the bucket for train/val/test datasets"
      ],
      "metadata": {
        "id": "lS7iMdeORypm"
      },
      "execution_count": null,
      "outputs": []
    },
    {
      "cell_type": "code",
      "source": [
        "# Define split ratios\n",
        "split_ratios = {'train': 0.6, 'val': 0.2, 'test': 0.2}"
      ],
      "metadata": {
        "id": "XpKvjLRNR1v8"
      },
      "execution_count": null,
      "outputs": []
    },
    {
      "cell_type": "code",
      "source": [
        "# Get the list of images and corresponding labels\n",
        "blobs_images = list(bucket.list_blobs(prefix=labeled_data_img_path))\n",
        "blobs_labels = list(bucket.list_blobs(prefix=labeled_data_labels_path))"
      ],
      "metadata": {
        "id": "E4dwwXnOR4mc"
      },
      "execution_count": null,
      "outputs": []
    },
    {
      "cell_type": "code",
      "source": [
        "# Ensure that only image and label pairs are processed\n",
        "images = [blob.name for blob in blobs_images if blob.name.endswith(('.jpg', '.png'))]\n",
        "labels = [blob.name for blob in blobs_labels if blob.name.endswith('.txt')]"
      ],
      "metadata": {
        "id": "O4I9QewRR6Bg"
      },
      "execution_count": null,
      "outputs": []
    },
    {
      "cell_type": "code",
      "source": [
        "# Map images to their corresponding labels\n",
        "base_image_names = {os.path.basename(img).split('.')[0]: img for img in images}\n",
        "base_label_names = {os.path.basename(lbl).split('.')[0]: lbl for lbl in labels}"
      ],
      "metadata": {
        "id": "HTwbCAK7R9A8"
      },
      "execution_count": null,
      "outputs": []
    },
    {
      "cell_type": "code",
      "source": [
        "# Filter out images that do not have corresponding labels\n",
        "paired_images_labels = [\n",
        "    (base_image_names[key], base_label_names[key])\n",
        "    for key in base_image_names if key in base_label_names\n",
        "]"
      ],
      "metadata": {
        "id": "qdB7wxfGSBHs"
      },
      "execution_count": null,
      "outputs": []
    },
    {
      "cell_type": "code",
      "source": [
        "# Shuffle and split the data\n",
        "random.shuffle(paired_images_labels)\n",
        "total_count = len(paired_images_labels)\n",
        "\n",
        "splits = {\n",
        "    'train': paired_images_labels[:int(split_ratios['train'] * total_count)],\n",
        "    'val': paired_images_labels[int(split_ratios['train'] * total_count):int((split_ratios['train'] + split_ratios['val']) * total_count)],\n",
        "    'test': paired_images_labels[int((split_ratios['train'] + split_ratios['val']) * total_count):]\n",
        "}"
      ],
      "metadata": {
        "id": "3qo0T3SvSDCk"
      },
      "execution_count": null,
      "outputs": []
    },
    {
      "cell_type": "code",
      "source": [
        "# Helper function to copy files in GCS\n",
        "def copy_blob(bucket, source_blob_name, destination_blob_name):\n",
        "    source_blob = bucket.blob(source_blob_name)\n",
        "    destination_blob = bucket.blob(destination_blob_name)\n",
        "    destination_blob.rewrite(source_blob)"
      ],
      "metadata": {
        "id": "n7u1OqKMSGZ8"
      },
      "execution_count": null,
      "outputs": []
    },
    {
      "cell_type": "code",
      "source": [
        "# Initialize statistics\n",
        "stats = {'train': {'images': 0, 'labels': 0},\n",
        "         'val': {'images': 0, 'labels': 0},\n",
        "         'test': {'images': 0, 'labels': 0}}"
      ],
      "metadata": {
        "id": "cFUHfivee3hr"
      },
      "execution_count": null,
      "outputs": []
    },
    {
      "cell_type": "code",
      "source": [
        "# Distribute the files\n",
        "for split, data in splits.items():\n",
        "    for image_path, label_path in data:\n",
        "        # Copy images\n",
        "        split_image_path = os.path.join(target_path, split, 'images', os.path.basename(image_path))\n",
        "        copy_blob(bucket, image_path, split_image_path)\n",
        "        stats[split]['images'] += 1\n",
        "        # Copy labels\n",
        "        split_label_path = os.path.join(target_path, split, 'labels', os.path.basename(label_path))\n",
        "        copy_blob(bucket, label_path, split_label_path)\n",
        "        stats[split]['labels'] += 1"
      ],
      "metadata": {
        "id": "lav_sjRSSIUM"
      },
      "execution_count": null,
      "outputs": []
    },
    {
      "cell_type": "code",
      "source": [
        "# Copy data.yaml file\n",
        "target_data_yaml_path = os.path.join(target_path, \"data.yaml\")\n",
        "copy_blob(bucket, source_data_yaml_path, target_data_yaml_path)"
      ],
      "metadata": {
        "id": "jQuTnzmAvVr8"
      },
      "execution_count": null,
      "outputs": []
    },
    {
      "cell_type": "code",
      "source": [
        "# Display statistics\n",
        "print(\"\\nData distribution statistics:\")\n",
        "for split in stats:\n",
        "    print(f\"{split.capitalize()} set:\")\n",
        "    print(f\"  Images: {stats[split]['images']}\")\n",
        "    print(f\"  Labels: {stats[split]['labels']}\")"
      ],
      "metadata": {
        "colab": {
          "base_uri": "https://localhost:8080/"
        },
        "id": "saFUM-pYSKbU",
        "outputId": "ec642dd5-ff35-49c7-ca98-e44707a46ce4"
      },
      "execution_count": null,
      "outputs": [
        {
          "output_type": "stream",
          "name": "stdout",
          "text": [
            "\n",
            "Data distribution statistics:\n",
            "Train set:\n",
            "  Images: 488\n",
            "  Labels: 488\n",
            "Val set:\n",
            "  Images: 163\n",
            "  Labels: 163\n",
            "Test set:\n",
            "  Images: 163\n",
            "  Labels: 163\n"
          ]
        }
      ]
    },
    {
      "cell_type": "code",
      "source": [
        "print(\"\\nData has been successfully distributed into train, val, and test sets.\")"
      ],
      "metadata": {
        "colab": {
          "base_uri": "https://localhost:8080/"
        },
        "id": "oaIHy0eie8Rf",
        "outputId": "a8519d78-0b5c-4901-a8df-a0938de8dc2c"
      },
      "execution_count": null,
      "outputs": [
        {
          "output_type": "stream",
          "name": "stdout",
          "text": [
            "\n",
            "Data has been successfully distributed into train, val, and test sets.\n"
          ]
        }
      ]
    }
  ]
}