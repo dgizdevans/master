{
  "nbformat": 4,
  "nbformat_minor": 0,
  "metadata": {
    "colab": {
      "provenance": [],
      "authorship_tag": "ABX9TyPW3YPHzOfY8S3NKcG1wrlV",
      "include_colab_link": true
    },
    "kernelspec": {
      "name": "python3",
      "display_name": "Python 3"
    },
    "language_info": {
      "name": "python"
    }
  },
  "cells": [
    {
      "cell_type": "markdown",
      "metadata": {
        "id": "view-in-github",
        "colab_type": "text"
      },
      "source": [
        "<a href=\"https://colab.research.google.com/github/dgizdevans/master/blob/main/ai_project/unlabaled_images_annotation.ipynb\" target=\"_parent\"><img src=\"https://colab.research.google.com/assets/colab-badge.svg\" alt=\"Open In Colab\"/></a>"
      ]
    },
    {
      "cell_type": "markdown",
      "source": [
        "# Gallery of Annotated Images from Unlabeled Sets\n"
      ],
      "metadata": {
        "id": "Bf0wEdAGFXB-"
      }
    },
    {
      "cell_type": "markdown",
      "source": [
        "## Description:\n",
        "This gallery showcases a selection of annotated images processed by our YOLOv8 model from the unlabeled test sets. The purpose of displaying these images is to visually validate the model's predictions, highlighting its ability to identify and classify objects (Passenger Vehicles, Cargo Vehicles, and Buses) with confidence. This step is critical for assessing the model's real-world applicability and ensuring its predictions align with expected outcomes."
      ],
      "metadata": {
        "id": "8IuD-_AWFxDO"
      }
    },
    {
      "cell_type": "code",
      "execution_count": null,
      "metadata": {
        "colab": {
          "base_uri": "https://localhost:8080/",
          "height": 1000
        },
        "id": "i_30pH7m7SNF",
        "outputId": "019cc394-a6a5-4579-8987-1a6681665ac7"
      },
      "outputs": [
        {
          "output_type": "display_data",
          "data": {
            "text/plain": [
              "<IPython.core.display.HTML object>"
            ],
            "text/html": [
              "<table style='border: 1px solid black; border-collapse: collapse;'><tr><td style='border: 1px solid black; text-align: center;'><a href='https://storage.cloud.google.com/ai-group-project-data/results/unlabeled_data_testing/test_set_1/annotated_images/annotated_images17/frame_20241128_074901.jpg' target='_blank'><img src='https://storage.cloud.google.com/ai-group-project-data/results/unlabeled_data_testing/test_set_1/annotated_images/annotated_images17/frame_20241128_074901.jpg' width='300'></a></td><td style='border: 1px solid black; text-align: center;'><a href='https://storage.cloud.google.com/ai-group-project-data/results/unlabeled_data_testing/test_set_1/annotated_images/annotated_images/frame_20241126_072913.jpg' target='_blank'><img src='https://storage.cloud.google.com/ai-group-project-data/results/unlabeled_data_testing/test_set_1/annotated_images/annotated_images/frame_20241126_072913.jpg' width='300'></a></td><td style='border: 1px solid black; text-align: center;'><a href='https://storage.cloud.google.com/ai-group-project-data/results/unlabeled_data_testing/test_set_5/annotated_images/annotated_images/frame_20241128_081402.jpg' target='_blank'><img src='https://storage.cloud.google.com/ai-group-project-data/results/unlabeled_data_testing/test_set_5/annotated_images/annotated_images/frame_20241128_081402.jpg' width='300'></a></td></tr><tr><td style='border: 1px solid black; text-align: center;'><a href='https://storage.cloud.google.com/ai-group-project-data/results/unlabeled_data_testing/test_set_3/annotated_images/annotated_images/frame_20241127_122537.jpg' target='_blank'><img src='https://storage.cloud.google.com/ai-group-project-data/results/unlabeled_data_testing/test_set_3/annotated_images/annotated_images/frame_20241127_122537.jpg' width='300'></a></td><td style='border: 1px solid black; text-align: center;'><a href='https://storage.cloud.google.com/ai-group-project-data/results/unlabeled_data_testing/test_set_1/annotated_images/annotated_images9/frame_20241126_063418.jpg' target='_blank'><img src='https://storage.cloud.google.com/ai-group-project-data/results/unlabeled_data_testing/test_set_1/annotated_images/annotated_images9/frame_20241126_063418.jpg' width='300'></a></td><td style='border: 1px solid black; text-align: center;'><a href='https://storage.cloud.google.com/ai-group-project-data/results/unlabeled_data_testing/test_set_1/annotated_images/annotated_images3/frame_20241127_120947.jpg' target='_blank'><img src='https://storage.cloud.google.com/ai-group-project-data/results/unlabeled_data_testing/test_set_1/annotated_images/annotated_images3/frame_20241127_120947.jpg' width='300'></a></td></tr><tr><td style='border: 1px solid black; text-align: center;'><a href='https://storage.cloud.google.com/ai-group-project-data/results/unlabeled_data_testing/test_set_1/annotated_images/annotated_images8/frame_20241126_132045.jpg' target='_blank'><img src='https://storage.cloud.google.com/ai-group-project-data/results/unlabeled_data_testing/test_set_1/annotated_images/annotated_images8/frame_20241126_132045.jpg' width='300'></a></td><td style='border: 1px solid black; text-align: center;'><a href='https://storage.cloud.google.com/ai-group-project-data/results/unlabeled_data_testing/test_set_1/annotated_images/annotated_images14/frame_20241128_112906.jpg' target='_blank'><img src='https://storage.cloud.google.com/ai-group-project-data/results/unlabeled_data_testing/test_set_1/annotated_images/annotated_images14/frame_20241128_112906.jpg' width='300'></a></td><td style='border: 1px solid black; text-align: center;'><a href='https://storage.cloud.google.com/ai-group-project-data/results/unlabeled_data_testing/test_set_5/annotated_images/annotated_images/frame_20241126_145744.jpg' target='_blank'><img src='https://storage.cloud.google.com/ai-group-project-data/results/unlabeled_data_testing/test_set_5/annotated_images/annotated_images/frame_20241126_145744.jpg' width='300'></a></td></tr><tr><td style='border: 1px solid black; text-align: center;'><a href='https://storage.cloud.google.com/ai-group-project-data/results/unlabeled_data_testing/test_set_1/annotated_images/annotated_images9/frame_20241127_145814.jpg' target='_blank'><img src='https://storage.cloud.google.com/ai-group-project-data/results/unlabeled_data_testing/test_set_1/annotated_images/annotated_images9/frame_20241127_145814.jpg' width='300'></a></td><td style='border: 1px solid black; text-align: center;'><a href='https://storage.cloud.google.com/ai-group-project-data/results/unlabeled_data_testing/test_set_2/annotated_images/annotated_images/frame_20241127_082847.jpg' target='_blank'><img src='https://storage.cloud.google.com/ai-group-project-data/results/unlabeled_data_testing/test_set_2/annotated_images/annotated_images/frame_20241127_082847.jpg' width='300'></a></td><td style='border: 1px solid black; text-align: center;'><a href='https://storage.cloud.google.com/ai-group-project-data/results/unlabeled_data_testing/test_set_1/annotated_images/annotated_images9/frame_20241128_114959.jpg' target='_blank'><img src='https://storage.cloud.google.com/ai-group-project-data/results/unlabeled_data_testing/test_set_1/annotated_images/annotated_images9/frame_20241128_114959.jpg' width='300'></a></td></tr><tr><td style='border: 1px solid black; text-align: center;'><a href='https://storage.cloud.google.com/ai-group-project-data/results/unlabeled_data_testing/test_set_3/annotated_images/annotated_images/frame_20241127_143405.jpg' target='_blank'><img src='https://storage.cloud.google.com/ai-group-project-data/results/unlabeled_data_testing/test_set_3/annotated_images/annotated_images/frame_20241127_143405.jpg' width='300'></a></td><td style='border: 1px solid black; text-align: center;'><a href='https://storage.cloud.google.com/ai-group-project-data/results/unlabeled_data_testing/test_set_5/annotated_images/annotated_images/frame_20241128_094145.jpg' target='_blank'><img src='https://storage.cloud.google.com/ai-group-project-data/results/unlabeled_data_testing/test_set_5/annotated_images/annotated_images/frame_20241128_094145.jpg' width='300'></a></td><td style='border: 1px solid black; text-align: center;'><a href='https://storage.cloud.google.com/ai-group-project-data/results/unlabeled_data_testing/test_set_1/annotated_images/annotated_images14/frame_20241126_082423.jpg' target='_blank'><img src='https://storage.cloud.google.com/ai-group-project-data/results/unlabeled_data_testing/test_set_1/annotated_images/annotated_images14/frame_20241126_082423.jpg' width='300'></a></td></tr><tr><td style='border: 1px solid black; text-align: center;'><a href='https://storage.cloud.google.com/ai-group-project-data/results/unlabeled_data_testing/test_set_3/annotated_images/annotated_images/frame_20241128_062710.jpg' target='_blank'><img src='https://storage.cloud.google.com/ai-group-project-data/results/unlabeled_data_testing/test_set_3/annotated_images/annotated_images/frame_20241128_062710.jpg' width='300'></a></td><td style='border: 1px solid black; text-align: center;'><a href='https://storage.cloud.google.com/ai-group-project-data/results/unlabeled_data_testing/test_set_1/annotated_images/annotated_images3/frame_20241127_113044.jpg' target='_blank'><img src='https://storage.cloud.google.com/ai-group-project-data/results/unlabeled_data_testing/test_set_1/annotated_images/annotated_images3/frame_20241127_113044.jpg' width='300'></a></td><td style='border: 1px solid black; text-align: center;'><a href='https://storage.cloud.google.com/ai-group-project-data/results/unlabeled_data_testing/test_set_2/annotated_images/annotated_images/frame_20241127_074354.jpg' target='_blank'><img src='https://storage.cloud.google.com/ai-group-project-data/results/unlabeled_data_testing/test_set_2/annotated_images/annotated_images/frame_20241127_074354.jpg' width='300'></a></td></tr></table>"
            ]
          },
          "metadata": {}
        }
      ],
      "source": [
        "from IPython.display import HTML, display\n",
        "from google.colab import auth\n",
        "from google.cloud import storage\n",
        "import random\n",
        "\n",
        "# Authenticate and initialize Google Cloud client\n",
        "auth.authenticate_user()\n",
        "client = storage.Client()\n",
        "bucket_name = \"ai-group-project-data\"\n",
        "bucket = client.bucket(bucket_name)\n",
        "\n",
        "# List all images in the unlabeled data results folder\n",
        "results_folder = \"results/unlabeled_data_testing\"\n",
        "blobs = list(bucket.list_blobs(prefix=results_folder))\n",
        "image_urls = [f\"https://storage.cloud.google.com/{bucket_name}/{blob.name}\" for blob in blobs if blob.name.endswith(('.jpg', '.png'))]\n",
        "\n",
        "# Randomly select 18 images\n",
        "selected_images = random.sample(image_urls, 18)\n",
        "\n",
        "# Generate HTML for the 6x3 table\n",
        "table_html = \"<table style='border: 1px solid black; border-collapse: collapse;'>\"\n",
        "for i in range(0, 18, 3):  # Rows (6 rows)\n",
        "    table_html += \"<tr>\"\n",
        "    for j in range(3):  # Columns (3 columns per row)\n",
        "        url = selected_images[i + j]\n",
        "        table_html += f\"<td style='border: 1px solid black; text-align: center;'>\"\n",
        "        table_html += f\"<a href='{url}' target='_blank'><img src='{url}' width='300'></a></td>\"\n",
        "    table_html += \"</tr>\"\n",
        "table_html += \"</table>\"\n",
        "\n",
        "# Display the table\n",
        "display(HTML(table_html))\n",
        "\n",
        "\n"
      ]
    }
  ]
}