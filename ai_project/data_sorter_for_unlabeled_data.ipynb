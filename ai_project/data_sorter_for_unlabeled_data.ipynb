{
  "nbformat": 4,
  "nbformat_minor": 0,
  "metadata": {
    "colab": {
      "provenance": [],
      "authorship_tag": "ABX9TyO3NG1C7Pr9dCgqlBwSjNh7",
      "include_colab_link": true
    },
    "kernelspec": {
      "name": "python3",
      "display_name": "Python 3"
    },
    "language_info": {
      "name": "python"
    }
  },
  "cells": [
    {
      "cell_type": "markdown",
      "metadata": {
        "id": "view-in-github",
        "colab_type": "text"
      },
      "source": [
        "<a href=\"https://colab.research.google.com/github/dgizdevans/master/blob/main/ai_project/data_sorter_for_unlabeled_data.ipynb\" target=\"_parent\"><img src=\"https://colab.research.google.com/assets/colab-badge.svg\" alt=\"Open In Colab\"/></a>"
      ]
    },
    {
      "cell_type": "code",
      "execution_count": null,
      "metadata": {
        "id": "jdGT_YFNhhTy"
      },
      "outputs": [],
      "source": [
        "import os\n",
        "import random\n",
        "from google.colab import auth\n",
        "from google.cloud import storage"
      ]
    },
    {
      "cell_type": "code",
      "source": [
        "# Authenticate and initialize the Google Cloud client\n",
        "auth.authenticate_user()\n",
        "project_id = \"ai-group-project\"  # Replace with your Google Cloud project ID\n",
        "client = storage.Client(project=project_id)\n",
        "bucket_name = \"ai-group-project-data\"  # Replace with your bucket name\n",
        "bucket = client.get_bucket(bucket_name)"
      ],
      "metadata": {
        "id": "sRcglBO_hm2Q"
      },
      "execution_count": null,
      "outputs": []
    },
    {
      "cell_type": "code",
      "source": [
        "# Define source and target paths\n",
        "source_path = \"data/raw/images/\"  # Path in the bucket where raw images are stored\n",
        "target_path = \"datasets/unlabeled_data/\"  # Path in the bucket for distributed test sets"
      ],
      "metadata": {
        "id": "eiS-rBrfhnQA"
      },
      "execution_count": null,
      "outputs": []
    },
    {
      "cell_type": "code",
      "source": [
        "# Number of test sets\n",
        "num_test_sets = 5"
      ],
      "metadata": {
        "id": "qQYF21jLhndR"
      },
      "execution_count": null,
      "outputs": []
    },
    {
      "cell_type": "code",
      "source": [
        "# Get the list of images\n",
        "blobs_images = list(bucket.list_blobs(prefix=source_path))\n",
        "images = [blob.name for blob in blobs_images if blob.name.endswith(('.jpg', '.png', '.jpeg'))]"
      ],
      "metadata": {
        "id": "OBDlOOibhuJx"
      },
      "execution_count": null,
      "outputs": []
    },
    {
      "cell_type": "code",
      "source": [
        "# Shuffle images\n",
        "random.shuffle(images)"
      ],
      "metadata": {
        "id": "p3ROaUKlhu0P"
      },
      "execution_count": null,
      "outputs": []
    },
    {
      "cell_type": "code",
      "source": [
        "# Split images into test sets\n",
        "split_size = len(images) // num_test_sets\n",
        "test_sets = [images[i * split_size:(i + 1) * split_size] for i in range(num_test_sets)]\n",
        "# Include any leftover images in the last set\n",
        "if len(images) % num_test_sets != 0:\n",
        "    test_sets[-1].extend(images[num_test_sets * split_size:])"
      ],
      "metadata": {
        "id": "W38x6iu2hvOv"
      },
      "execution_count": null,
      "outputs": []
    },
    {
      "cell_type": "code",
      "source": [
        "# Helper function to copy files in GCS\n",
        "def copy_blob(bucket, source_blob_name, destination_blob_name):\n",
        "    source_blob = bucket.blob(source_blob_name)\n",
        "    destination_blob = bucket.blob(destination_blob_name)\n",
        "    destination_blob.rewrite(source_blob)"
      ],
      "metadata": {
        "id": "JetujMwIhyq3"
      },
      "execution_count": null,
      "outputs": []
    },
    {
      "cell_type": "markdown",
      "source": [],
      "metadata": {
        "id": "TY-ohuzxh2hj"
      }
    },
    {
      "cell_type": "code",
      "source": [
        "# Distribute the files\n",
        "stats = {}\n",
        "for i, test_set in enumerate(test_sets, start=1):\n",
        "    test_set_folder = f\"{target_path}test_set_{i}/\"\n",
        "    stats[f\"test_set_{i}\"] = len(test_set)\n",
        "    for image_path in test_set:\n",
        "        # Define target path for the image\n",
        "        target_image_path = os.path.join(test_set_folder, os.path.basename(image_path))\n",
        "        copy_blob(bucket, image_path, target_image_path)"
      ],
      "metadata": {
        "id": "va-4Ww4rhyW0"
      },
      "execution_count": null,
      "outputs": []
    },
    {
      "cell_type": "code",
      "source": [
        "# Display statistics\n",
        "print(\"\\nData distribution statistics:\")\n",
        "for test_set, count in stats.items():\n",
        "    print(f\"{test_set}: {count} images\")\n",
        "\n",
        "print(\"\\nUnlabeled data has been successfully distributed into 5 test sets.\")"
      ],
      "metadata": {
        "colab": {
          "base_uri": "https://localhost:8080/"
        },
        "id": "tvJhUotVh2Mk",
        "outputId": "659ea8d7-76a6-4f3c-ef65-433b19628fa4"
      },
      "execution_count": null,
      "outputs": [
        {
          "output_type": "stream",
          "name": "stdout",
          "text": [
            "\n",
            "Data distribution statistics:\n",
            "test_set_1: 840 images\n",
            "test_set_2: 840 images\n",
            "test_set_3: 840 images\n",
            "test_set_4: 840 images\n",
            "test_set_5: 843 images\n",
            "\n",
            "Unlabeled data has been successfully distributed into 5 test sets.\n"
          ]
        }
      ]
    }
  ]
}